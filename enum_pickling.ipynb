{
 "cells": [
  {
   "cell_type": "code",
   "execution_count": 6,
   "metadata": {},
   "outputs": [
    {
     "name": "stdout",
     "output_type": "stream",
     "text": [
      "{<Foo.ASD: '0'>: 'asd'}\n",
      "{\"py/object\": \"__main__.Asd\", \"foo\": {\"0\": \"asd\"}}\n",
      "{'0': 'asd'}\n",
      "asd\n",
      "Foo.ASD\n"
     ]
    }
   ],
   "source": [
    "import jsonpickle as jp\n",
    "from enum import Enum\n",
    "\n",
    "class Foo(str, Enum):\n",
    "    ASD = 0\n",
    "    BSD = 1\n",
    "    \n",
    "    \n",
    "class Asd(object):\n",
    "    def __init__(self, foo):\n",
    "        self.foo = {}\n",
    "        self.foo[foo] = 'asd'\n",
    "    \n",
    "bar = Asd(Foo.ASD)\n",
    "\n",
    "print(bar.foo)\n",
    "\n",
    "enc = jp.encode(bar)\n",
    "print(enc)\n",
    "dec = jp.decode(enc)\n",
    "print(dec.foo)\n",
    "print(dec.foo[Foo.ASD])\n",
    "print(Foo('0'))"
   ]
  },
  {
   "cell_type": "code",
   "execution_count": 10,
   "metadata": {},
   "outputs": [
    {
     "name": "stdout",
     "output_type": "stream",
     "text": [
      "Foo.ASD\n",
      "True\n",
      "False\n",
      "True\n"
     ]
    }
   ],
   "source": [
    "print(Foo('0'))\n",
    "print(Foo('0') == Foo.ASD)\n",
    "print(0 == Foo.ASD)\n",
    "print('0' == Foo.ASD)"
   ]
  }
 ],
 "metadata": {
  "kernelspec": {
   "display_name": "Python 3",
   "language": "python",
   "name": "python3"
  },
  "language_info": {
   "codemirror_mode": {
    "name": "ipython",
    "version": 3
   },
   "file_extension": ".py",
   "mimetype": "text/x-python",
   "name": "python",
   "nbconvert_exporter": "python",
   "pygments_lexer": "ipython3",
   "version": "3.6.6"
  }
 },
 "nbformat": 4,
 "nbformat_minor": 2
}
